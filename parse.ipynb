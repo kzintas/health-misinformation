{
 "cells": [
  {
   "cell_type": "code",
   "execution_count": 65,
   "metadata": {},
   "outputs": [],
   "source": [
    "import json\n",
    "import os"
   ]
  },
  {
   "cell_type": "code",
   "execution_count": 66,
   "metadata": {},
   "outputs": [
    {
     "data": {
      "text/plain": [
       "'/home/zinat/Documents/NLP/segan'"
      ]
     },
     "execution_count": 66,
     "metadata": {},
     "output_type": "execute_result"
    }
   ],
   "source": [
    "os.getcwd()"
   ]
  },
  {
   "cell_type": "code",
   "execution_count": 67,
   "metadata": {},
   "outputs": [
    {
     "name": "stdout",
     "output_type": "stream",
     "text": [
      "dict_keys(['_id', 'status_id', 'status_message', 'link_name', 'status_type', 'status_link', 'permalink_url', 'status_published', 'news_content', 'link', 'anchors', 'news_key_words', 'news_site', 'categoires'])\n"
     ]
    }
   ],
   "source": [
    "data = []\n",
    "\n",
    "#ith open('./Health_Misinfo_Data/data_extracted_zfinal_health_trustworthy.json') as f:\n",
    "for line in open('./Health_Misinfo_Data/data_extracted_zfinal_health_trustworthy.json', 'r'):\n",
    "    data.append(json.loads(line))\n",
    "\n",
    "# Output: {'name': 'Bob', 'languages': ['English', 'Fench']}\n",
    "#print(data['_id'])\n",
    "print(data[0].keys())\n",
    "i=0\n",
    "keys_to_extract=['status_id','news_content']\n",
    "\"\"\"\n",
    "for entries in data:\n",
    "    print(entries['news_content'])\n",
    "    i=i+1\n",
    "    if i==10:\n",
    "        break\n",
    "\"\"\"\n",
    "sub_data=[]\n",
    "for entries in data:\n",
    "    sub_data.append({k: entries[k] for k in keys_to_extract if k in entries})\n",
    "    \n",
    "for entries in sub_data:\n",
    "    entries['news_content']=entries['news_content'].replace(\"\\n\",\"\")\n",
    "    entries['news_content']=entries['news_content'].replace(\"_\",\"\")\n"
   ]
  },
  {
   "cell_type": "code",
   "execution_count": 68,
   "metadata": {},
   "outputs": [],
   "source": [
    "with open('raw_text.txt', \"w\") as input_file, open('response_text.txt', \"w\") as responsefile:\n",
    "    for entries in sub_data:\n",
    "        input_file.write(\"{0}\\t{1}\\n\".format(int(entries['status_id']), entries['news_content']))\n",
    "        responsefile.write(\"{0}\\t{1}\\n\".format(int(entries['status_id']),int(1)))\n",
    "        #input_file.write(\"%s\\t %s\\n\" % entries['status_id'] %entries['news_content'])\n",
    "                         "
   ]
  },
  {
   "cell_type": "code",
   "execution_count": 69,
   "metadata": {},
   "outputs": [
    {
     "name": "stdout",
     "output_type": "stream",
     "text": [
      "dict_keys(['status_id', 'status_message', '_id', 'categoires', 'status_published', 'link', 'anchors', 'permalink_url', 'status_link', 'news_key_words', 'link_name', 'status_type', 'news_site', 'news_content', 'title', 'authors', 'publish_date', 'movies', 'imgs', 'top_img'])\n"
     ]
    }
   ],
   "source": [
    "data = []\n",
    "\n",
    "for line in open('./Health_Misinfo_Data/data_extracted_zfinal_health_dubiousClassified.json', 'r'):\n",
    "    data.append(json.loads(line))\n",
    "\n",
    "print(data[0].keys())\n",
    "i=0\n",
    "keys_to_extract=['status_id','news_content']\n",
    "\n",
    "sub_data=[]\n",
    "for entries in data:\n",
    "    sub_data.append({k: entries[k] for k in keys_to_extract if k in entries})\n",
    "    \n",
    "for entries in sub_data:\n",
    "    entries['news_content']=entries['news_content'].replace(\"\\n\",\"\")\n",
    "    entries['news_content']=entries['news_content'].replace(\"_\",\"\")\n",
    "    "
   ]
  },
  {
   "cell_type": "code",
   "execution_count": 70,
   "metadata": {},
   "outputs": [],
   "source": [
    "with open('raw_text.txt', \"a\") as input_file, open('response_text.txt', \"a\") as responsefile:\n",
    "    for entries in sub_data:\n",
    "        input_file.write(\"{0}\\t{1}\\n\".format(int(entries['status_id']), entries['news_content']))\n",
    "        responsefile.write(\"{0}\\t{1}\\n\".format(int(entries['status_id']),int(0)))\n"
   ]
  },
  {
   "cell_type": "code",
   "execution_count": null,
   "metadata": {},
   "outputs": [],
   "source": []
  }
 ],
 "metadata": {
  "kernelspec": {
   "display_name": "Python 3",
   "language": "python",
   "name": "python3"
  },
  "language_info": {
   "codemirror_mode": {
    "name": "ipython",
    "version": 3
   },
   "file_extension": ".py",
   "mimetype": "text/x-python",
   "name": "python",
   "nbconvert_exporter": "python",
   "pygments_lexer": "ipython3",
   "version": "3.7.4"
  }
 },
 "nbformat": 4,
 "nbformat_minor": 2
}
